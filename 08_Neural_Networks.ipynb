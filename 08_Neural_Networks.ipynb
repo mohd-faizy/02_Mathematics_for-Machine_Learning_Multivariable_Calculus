{
  "nbformat": 4,
  "nbformat_minor": 0,
  "metadata": {
    "colab": {
      "name": "08_Neural_Networks.ipynb",
      "provenance": [],
      "collapsed_sections": [],
      "authorship_tag": "ABX9TyMmlFxEx3YOOt4JAcoi+caD",
      "include_colab_link": true
    },
    "kernelspec": {
      "name": "python3",
      "display_name": "Python 3"
    }
  },
  "cells": [
    {
      "cell_type": "markdown",
      "metadata": {
        "id": "view-in-github",
        "colab_type": "text"
      },
      "source": [
        "<a href=\"https://colab.research.google.com/github/mohd-faizy/02_Mathematics_for-Machine_Learning_Multivariable_Calculus/blob/master/08_Neural_Networks.ipynb\" target=\"_parent\"><img src=\"https://colab.research.google.com/assets/colab-badge.svg\" alt=\"Open In Colab\"/></a>"
      ]
    },
    {
      "cell_type": "markdown",
      "metadata": {
        "id": "RuE0Y-V2fNJa",
        "colab_type": "text"
      },
      "source": [
        ""
      ]
    },
    {
      "cell_type": "code",
      "metadata": {
        "id": "0aWfMbVQfNuV",
        "colab_type": "code",
        "colab": {}
      },
      "source": [
        "# First we set the state of the network\n",
        "σ = np.tanh\n",
        "w1 = -5.0\n",
        "b1 = 5.0\n",
        "\n",
        "# Then we define the neuron activation.\n",
        "def a1(a0) :\n",
        "  return σ(w1 * a0 + b1)\n",
        "  \n",
        "# Finally let's try the network out!\n",
        "# Replace x with 0 or 1 below,\n",
        "a1(0)"
      ],
      "execution_count": null,
      "outputs": []
    },
    {
      "cell_type": "code",
      "metadata": {
        "id": "sErHV69nfRPO",
        "colab_type": "code",
        "colab": {}
      },
      "source": [
        "# First set up the network.\n",
        "sigma = np.tanh\n",
        "W = np.array([[-2, 4, -1],[6, 0, -3]])\n",
        "b = np.array([0.1, -2.5])\n",
        "\n",
        "# Define our input vector\n",
        "x = np.array([0.3, 0.4, 0.1])\n",
        "\n",
        "# Calculate the values by hand,\n",
        "# and replace a1_0 and a1_1 here (to 2 decimal places)\n",
        "# (Or if you feel adventurous, find the values with code!)\n",
        "a1 = (np.tanh(W@x.T + b.T)).T\n"
      ],
      "execution_count": null,
      "outputs": []
    },
    {
      "cell_type": "code",
      "metadata": {
        "id": "LqHDUEPufRNF",
        "colab_type": "code",
        "colab": {}
      },
      "source": [
        ""
      ],
      "execution_count": null,
      "outputs": []
    },
    {
      "cell_type": "code",
      "metadata": {
        "id": "aGilU18eeqQi",
        "colab_type": "code",
        "colab": {
          "base_uri": "https://localhost:8080/",
          "height": 34
        },
        "outputId": "fc267ef1-2b03-49c1-e0a9-436dce9da1c2"
      },
      "source": [
        "# First we set the state of the network\n",
        "import numpy as np\n",
        "\n",
        "σ = np.tanh\n",
        "w1 = 1.3\n",
        "b1 = -0.1\n",
        "\n",
        "# Then we define the neuron activation.\n",
        "def a1(a0) :\n",
        "  z = w1 * a0 + b1\n",
        "  return σ(z)\n",
        "\n",
        "# Experiment with different values of x below.\n",
        "x = 0\n",
        "a1(x)"
      ],
      "execution_count": null,
      "outputs": [
        {
          "output_type": "execute_result",
          "data": {
            "text/plain": [
              "-0.09966799462495582"
            ]
          },
          "metadata": {
            "tags": []
          },
          "execution_count": 2
        }
      ]
    },
    {
      "cell_type": "code",
      "metadata": {
        "id": "uAp-iH3Qe6v8",
        "colab_type": "code",
        "colab": {
          "base_uri": "https://localhost:8080/",
          "height": 34
        },
        "outputId": "ad217d3d-dd86-4789-d584-f59c7a86a539"
      },
      "source": [
        "# First define our sigma function.\n",
        "sigma = np.tanh\n",
        "\n",
        "# Next define the feed-forward equation.\n",
        "def a1 (w1, b1, a0) :\n",
        "  z = w1 * a0 + b1\n",
        "  return sigma(z)\n",
        "\n",
        "# The individual cost function is the square of the difference between\n",
        "# the network output and the training data output.\n",
        "def C (w1, b1, x, y) :\n",
        "  return (a1(w1, b1, x) - y)**2\n",
        "\n",
        "# This function returns the derivative of the cost function with\n",
        "# respect to the weight.\n",
        "def dCdw (w1, b1, x, y) :\n",
        "  z = w1 * x + b1\n",
        "  dCda = 2 * (a1(w1, b1, x) - y) # Derivative of cost with activation\n",
        "  dadz = 1/np.cosh(z)**2 # derivative of activation with weighted sum z\n",
        "  dzdw = x # derivative of weighted sum z with weight\n",
        "  return dCda * dadz * dzdw # Return the chain rule product.\n",
        "\n",
        "# This function returns the derivative of the cost function with\n",
        "# respect to the bias.\n",
        "# It is very similar to the previous function.\n",
        "# You should complete this function.\n",
        "def dCdb (w1, b1, x, y) :\n",
        "  z = w1 * x + b1\n",
        "  dCda = 2 * (a1(w1, b1, x) - y)\n",
        "  dadz = 1/np.cosh(z)**2\n",
        "  \"\"\" Change the next line to give the derivative of\n",
        "      the weighted sum, z, with respect to the bias, b. \"\"\"\n",
        "  dzdb = 1\n",
        "  return dCda * dadz * dzdb\n",
        "\n",
        "\"\"\"Test your code before submission:\"\"\"\n",
        "# Let's start with an unfit weight and bias.\n",
        "w1 = 2.3\n",
        "b1 = -1.2\n",
        "# We can test on a single data point pair of x and y.\n",
        "x = 0\n",
        "y = 1\n",
        "# Output how the cost would change\n",
        "# in proportion to a small change in the bias\n",
        "print( dCdb(w1, b1, x, y) )\n"
      ],
      "execution_count": null,
      "outputs": [
        {
          "output_type": "stream",
          "text": [
            "-1.1186026425530913\n"
          ],
          "name": "stdout"
        }
      ]
    },
    {
      "cell_type": "code",
      "metadata": {
        "id": "NyWd6hi7fF4n",
        "colab_type": "code",
        "colab": {}
      },
      "source": [
        "# Define the activation function.\n",
        "sigma = np.tanh\n",
        "\n",
        "# Let's use a random initial weight and bias.\n",
        "W = np.array([[-0.94529712, -0.2667356 , -0.91219181],\n",
        "              [ 2.05529992,  1.21797092,  0.22914497]])\n",
        "b = np.array([ 0.61273249,  1.6422662 ])\n",
        "\n",
        "# define our feed forward function\n",
        "def a1 (a0) :\n",
        "  # Notice the next line is almost the same as previously,\n",
        "  # except we are using matrix multiplication rather than scalar multiplication\n",
        "  # hence the '@' operator, and not the '*' operator.\n",
        "  z = W @ a0 + b\n",
        "  # Everything else is the same though,\n",
        "  return sigma(z)\n",
        "\n",
        "# Next, if a training example is,\n",
        "x = np.array([0.1, 0.5, 0.6])\n",
        "y = np.array([0.25, 0.75])\n",
        "\n",
        "# Then the cost function is,\n",
        "d = a1(x) - y # Vector difference between observed and expected activation\n",
        "C = d @ d # Absolute value squared of the difference.\n"
      ],
      "execution_count": null,
      "outputs": []
    },
    {
      "cell_type": "code",
      "metadata": {
        "id": "OvdcMqx3fF24",
        "colab_type": "code",
        "colab": {}
      },
      "source": [
        ""
      ],
      "execution_count": null,
      "outputs": []
    }
  ]
}