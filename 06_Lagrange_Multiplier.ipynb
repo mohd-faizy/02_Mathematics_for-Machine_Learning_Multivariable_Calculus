{
  "nbformat": 4,
  "nbformat_minor": 0,
  "metadata": {
    "colab": {
      "name": "06_Lagrange_Multiplier.ipynb",
      "provenance": [],
      "collapsed_sections": [],
      "authorship_tag": "ABX9TyPt1T7FTUa02F/Wfj0EI7wS",
      "include_colab_link": true
    },
    "kernelspec": {
      "name": "python3",
      "display_name": "Python 3"
    }
  },
  "cells": [
    {
      "cell_type": "markdown",
      "metadata": {
        "id": "view-in-github",
        "colab_type": "text"
      },
      "source": [
        "<a href=\"https://colab.research.google.com/github/mohd-faizy/02_Mathematics_for-Machine_Learning_Multivariable_Calculus/blob/master/06_Lagrange_Multiplier.ipynb\" target=\"_parent\"><img src=\"https://colab.research.google.com/assets/colab-badge.svg\" alt=\"Open In Colab\"/></a>"
      ]
    },
    {
      "cell_type": "markdown",
      "metadata": {
        "id": "6HRobMU22I9f",
        "colab_type": "text"
      },
      "source": [
        "$\n",
        "\\nabla{f(x)} = \\lambda\\nabla{g(x)}\\\\\n",
        "$\n",
        "\n",
        "$\n",
        "\\begin{vmatrix}\n",
        "\\frac{\\partial f}{\\partial x}\\\\\n",
        "\\frac{\\partial f}{\\partial y}\n",
        "\\end{vmatrix} = \\lambda\n",
        "\\begin{vmatrix}\n",
        "\\frac{\\partial g}{\\partial x}\\\\\n",
        "\\frac{\\partial g}{\\partial y}\n",
        "\\end{vmatrix} \n",
        "$\n",
        "\n",
        "$\n",
        "\\nabla L(x, y, {\\lambda}) =\n",
        "\\begin{vmatrix}\n",
        "\\frac{\\partial f}{\\partial x} -\n",
        "{\\lambda}\\frac{\\partial g}{\\partial x}\\\\\n",
        "\\frac{\\partial f}{\\partial y} - \n",
        "{\\lambda}\\frac{\\partial g}{\\partial y}\\\\\n",
        "-{g(x)}\n",
        "\\end{vmatrix} = 0\n",
        "$"
      ]
    },
    {
      "cell_type": "code",
      "metadata": {
        "id": "t5cdzmJasj8M",
        "colab_type": "code",
        "colab": {}
      },
      "source": [
        "import numpy as np\n",
        "\n",
        "\n",
        "# First we define the functions,\n",
        "def f (x, y) :\n",
        "    return np.exp(-(2*x*x + y*y - x*y) / 2)\n",
        "\n",
        "def g (x, y) :\n",
        "    return x*x + 3*(y+1)**2 - 1\n",
        "\n",
        "# Next their derivatives,\n",
        "def dfdx (x, y) :\n",
        "    return 1/2 * (-4*x + y) * f(x, y)\n",
        "\n",
        "def dfdy (x, y) :\n",
        "    return 1/2 * (x - 2*y) * f(x, y)\n",
        "\n",
        "def dgdx (x, y) :\n",
        "    return 2 * x\n",
        "\n",
        "def dgdy (x, y) :\n",
        "    return 6 * (y + 1)"
      ],
      "execution_count": null,
      "outputs": []
    },
    {
      "cell_type": "code",
      "metadata": {
        "id": "-dsL0SvCsXKO",
        "colab_type": "code",
        "colab": {
          "base_uri": "https://localhost:8080/",
          "height": 85
        },
        "outputId": "344701f4-3002-4493-8ecb-20e78a33ea73"
      },
      "source": [
        "from scipy import optimize\n",
        "\n",
        "def DL (xyλ) :\n",
        "    [x, y, λ] = xyλ\n",
        "    return np.array([\n",
        "            dfdx(x, y) - λ * dgdx(x, y),\n",
        "            dfdy(x, y) - λ * dgdy(x, y),\n",
        "            - g(x, y)\n",
        "        ])\n",
        "\n",
        "(x0, y0, λ0) = (-2, 3, 0.1)\n",
        "x, y, λ = optimize.root(DL, [x0, y0, λ0]).x\n",
        "print(\"x = %g\" % x)\n",
        "print(\"y = %g\" % y)\n",
        "print(\"λ = %g\" % λ)\n",
        "print(\"f(x, y) = %g\" % f(x, y))"
      ],
      "execution_count": null,
      "outputs": [
        {
          "output_type": "stream",
          "text": [
            "x = -0.0958377\n",
            "y = -0.425307\n",
            "λ = 0.101108\n",
            "f(x, y) = 0.923811\n"
          ],
          "name": "stdout"
        }
      ]
    },
    {
      "cell_type": "code",
      "metadata": {
        "id": "ocmGaxkuwadA",
        "colab_type": "code",
        "colab": {
          "base_uri": "https://localhost:8080/",
          "height": 85
        },
        "outputId": "87af2b0f-43a6-4ae4-96ef-614010e01012"
      },
      "source": [
        "# Import libraries\n",
        "import numpy as np\n",
        "from scipy import optimize\n",
        "\n",
        "# First we define the functions, YOU SHOULD IMPLEMENT THESE\n",
        "def f (x, y) :\n",
        "    return -np.exp(x - y*y +x*y)\n",
        "\n",
        "def g (x, y) :\n",
        "    return np.cosh(y) + x -2\n",
        "\n",
        "# Next their derivatives, YOU SHOULD IMPLEMENT THESE\n",
        "def dfdx (x, y) :\n",
        "    return (-np.exp(x - y*y + x*y)) * (1 + y)\n",
        "\n",
        "def dfdy (x, y) :\n",
        "    return (-np.exp(x - y*y + x*y)) * (-2*y + x)\n",
        "\n",
        "def dgdx (x, y) :\n",
        "    return 1\n",
        "\n",
        "def dgdy (x, y) :\n",
        "    return np.sinh(y)\n",
        "\n",
        "# Use the definition of DL from previously.\n",
        "def DL (xyλ) :\n",
        "    [x, y, λ] = xyλ\n",
        "    return np.array([\n",
        "            dfdx(x, y) - λ * dgdx(x, y),\n",
        "            dfdy(x, y) - λ * dgdy(x, y),\n",
        "            - g(x, y)\n",
        "        ])\n",
        "\n",
        "# To score on this question, the code above should set\n",
        "# the variables x, y, λ, to the values which solve the\n",
        "# Langrange multiplier problem.\n",
        "\n",
        "# I.e. use the optimize.root method, as you did previously.\n",
        "(x0, y0, λ0) = (0, 0, 0)\n",
        "x, y, λ = optimize.root(DL, [x0, y0, λ0 ]).x\n",
        "\n",
        "print(\"x = %g\" % x)\n",
        "print(\"y = %g\" % y)\n",
        "print(\"λ = %g\" % λ)\n",
        "print(\"f(x, y) = %g\" % f(x, y))\n"
      ],
      "execution_count": null,
      "outputs": [
        {
          "output_type": "stream",
          "text": [
            "x = 0.957782\n",
            "y = 0.289565\n",
            "λ = -4.07789\n",
            "f(x, y) = -3.16222\n"
          ],
          "name": "stdout"
        }
      ]
    }
  ]
}