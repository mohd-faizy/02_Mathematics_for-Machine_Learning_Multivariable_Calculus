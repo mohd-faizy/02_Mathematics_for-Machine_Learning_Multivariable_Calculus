{
  "nbformat": 4,
  "nbformat_minor": 0,
  "metadata": {
    "colab": {
      "name": "07_Linear_Regression.ipynb",
      "provenance": [],
      "authorship_tag": "ABX9TyMgNNrUHANyiFtzCpstTAmK",
      "include_colab_link": true
    },
    "kernelspec": {
      "name": "python3",
      "display_name": "Python 3"
    }
  },
  "cells": [
    {
      "cell_type": "markdown",
      "metadata": {
        "id": "view-in-github",
        "colab_type": "text"
      },
      "source": [
        "<a href=\"https://colab.research.google.com/github/mohd-faizy/02_Mathematics_for-Machine_Learning_Multivariable_Calculus/blob/master/07_Linear_Regression.ipynb\" target=\"_parent\"><img src=\"https://colab.research.google.com/assets/colab-badge.svg\" alt=\"Open In Colab\"/></a>"
      ]
    },
    {
      "cell_type": "code",
      "metadata": {
        "id": "g8VEDPdPp4fi",
        "colab_type": "code",
        "colab": {}
      },
      "source": [
        "m = -0.24 ; c = 0.78\n",
        "p = [m,c]\n",
        "line(p)"
      ],
      "execution_count": null,
      "outputs": []
    },
    {
      "cell_type": "code",
      "metadata": {
        "id": "00616ouqp9vo",
        "colab_type": "code",
        "colab": {}
      },
      "source": [
        "# Replace m and c with values that minimise χ^2.\n",
        "p = [-0.24, 0.78]"
      ],
      "execution_count": null,
      "outputs": []
    },
    {
      "cell_type": "code",
      "metadata": {
        "id": "zGuHocmMjE9a",
        "colab_type": "code",
        "colab": {}
      },
      "source": [
        "import numpy as np\n",
        "from scipy import stats\n",
        "\n",
        "# Here the function is defined\n",
        "def linfit(xdat,ydat):\n",
        "  # Here xbar and ybar are calculated\n",
        "  xbar = np.sum(xdat)/len(xdat)\n",
        "  ybar = np.sum(ydat)/len(ydat)\n",
        "\n",
        "  # Insert calculation of m and c here. If nothing is here the data will be plotted with no linear fit\n",
        "  m = np.sum((xdat-xbar)*ydat)/np.sum((xdat-xbar)**2)\n",
        "  c = ybar-m*xbar\n",
        "  # Return your values as [m, c]\n",
        "  return [m, c]\n",
        "\n",
        "# Produce the plot - don't put this in the next code block\n",
        "line()"
      ],
      "execution_count": null,
      "outputs": []
    },
    {
      "cell_type": "code",
      "metadata": {
        "id": "XVh0YTZfoKZW",
        "colab_type": "code",
        "colab": {}
      },
      "source": [
        "# Here the function is defined\n",
        "def linfit(xdat,ydat):\n",
        "  # Here xbar and ybar are calculated\n",
        "  xbar = np.sum(xdat)/len(xdat)\n",
        "  ybar = np.sum(ydat)/len(ydat)\n",
        "\n",
        "  # Insert calculation of m and c below\n",
        "  m = np.sum((xdat-xbar)*ydat)/np.sum((xdat-xbar)**2)\n",
        "  c = ybar-m*xbar\n",
        "  # Return your values as [m, c]\n",
        "  return [m, c]\n",
        "  \n",
        "# Don't include line() in this answer box"
      ],
      "execution_count": null,
      "outputs": []
    },
    {
      "cell_type": "code",
      "metadata": {
        "id": "apVBxDJBoNoP",
        "colab_type": "code",
        "colab": {}
      },
      "source": [
        "from scipy import stats\n",
        "\n",
        "# Use the stats.linregress() method to evaluate regression\n",
        "regression = stats.linregress(xdat,ydat)\n",
        "\n",
        "line(regression)"
      ],
      "execution_count": null,
      "outputs": []
    },
    {
      "cell_type": "code",
      "metadata": {
        "id": "adN9ZJ7toQTV",
        "colab_type": "code",
        "colab": {}
      },
      "source": [
        "from scipy import stats\n",
        "\n",
        "# Use the stats.linregress() method to evaluate regression\n",
        "regression = stats.linregress(xdat,ydat)\n",
        "\n",
        "# Don't use line(regression) in this code box"
      ],
      "execution_count": null,
      "outputs": []
    }
  ]
}