{
  "nbformat": 4,
  "nbformat_minor": 0,
  "metadata": {
    "coursera": {
      "course_slug": "maths4ml-calculus",
      "graded_item_id": "oBlKd",
      "launcher_item_id": "37rcX"
    },
    "kernelspec": {
      "display_name": "Python 3",
      "language": "python",
      "name": "python3"
    },
    "language_info": {
      "codemirror_mode": {
        "name": "ipython",
        "version": 3
      },
      "file_extension": ".py",
      "mimetype": "text/x-python",
      "name": "python",
      "nbconvert_exporter": "python",
      "pygments_lexer": "ipython3",
      "version": "3.6.2"
    },
    "colab": {
      "name": "03_Backpropagation.ipynb",
      "provenance": [],
      "toc_visible": true,
      "include_colab_link": true
    }
  },
  "cells": [
    {
      "cell_type": "markdown",
      "metadata": {
        "id": "view-in-github",
        "colab_type": "text"
      },
      "source": [
        "<a href=\"https://colab.research.google.com/github/mohd-faizy/02_Mathematics_for-Machine_Learning_Multivariable_Calculus/blob/master/03_Backpropagation.ipynb\" target=\"_parent\"><img src=\"https://colab.research.google.com/assets/colab-badge.svg\" alt=\"Open In Colab\"/></a>"
      ]
    },
    {
      "cell_type": "markdown",
      "metadata": {
        "id": "LnkwH5M1SAak",
        "colab_type": "text"
      },
      "source": [
        "# Backpropagation\n",
        "## Instructions\n",
        "\n",
        "In this assignment, you will train a neural network to draw a curve.\n",
        "The curve takes one input variable, the amount travelled along the curve from 0 to 1, and returns 2 outputs, the 2D coordinates of the position of points on the curve.\n",
        "\n",
        "To help capture the complexity of the curve, we shall use two hidden layers in our network with 6 and 7 neurons respectively.\n",
        "\n",
        "Neural network with 2 hidden layers. There is 1 nodes in the zeroth layer, 6 in the first, 7 in the second, and 2 in the third.\n",
        "\n",
        "<img src = 'https://lh3.googleusercontent.com/_ooi2Ud1wL4Ww9VSZPv57qaPHz_L9gdhH6Bd0Z0ynlP7uVr7VeRjRl9nxN7AzWN9RdY0mg=s85'>\n",
        "\n",
        "You will be asked to complete functions that calculate the Jacobian of the cost function, with respect to the weights and biases of the network. Your code will form part of a stochastic steepest descent algorithm that will train your network.\n",
        "\n",
        "## Matrices in Python\n",
        "Recall from assignments in the previous course in this specialisation that matrices can be multiplied together in two ways.\n",
        "\n",
        "Element wise: when two matrices have the same dimensions, matrix elements in the same position in each matrix are multiplied together\n",
        "In python this uses the '$*$' operator.\n",
        "```python\n",
        "A = B * C\n",
        "```\n",
        "\n",
        "__Matrix multiplication__: when the number of columns in the first matrix is the same as the number of rows in the second.\n",
        "In python this uses the '$@$' operator\n",
        "```python\n",
        "A = B @ C\n",
        "```\n",
        "\n",
        "This assignment will not test which ones to use where, but it will use both in the starter code presented to you.\n",
        "There is no need to change these or worry about their specifics.\n",
        "\n",
        "## How to submit\n",
        "To complete the assignment, edit the code in the cells below where you are told to do so.\n",
        "Once you are finished and happy with it, press the **Submit Assignment** button at the top of this worksheet.\n",
        "Test your code using the cells at the bottom of the notebook before you submit.\n",
        "\n",
        "Please don't change any of the function names, as these will be checked by the grading script."
      ]
    },
    {
      "cell_type": "markdown",
      "metadata": {
        "id": "yDQyyCaXSAam",
        "colab_type": "text"
      },
      "source": [
        "## Feed forward\n",
        "\n",
        "In the following cell, we will define functions to set up our neural network.\n",
        "Namely an activation function, $\\sigma(z)$, it's derivative, $\\sigma'(z)$, a function to initialise weights and biases, and a function that calculates each activation of the network using feed-forward.\n",
        "\n",
        "Recall the feed-forward equations,\n",
        "$$ \\mathbf{a}^{(n)} = \\sigma(\\mathbf{z}^{(n)}) $$\n",
        "$$ \\mathbf{z}^{(n)} = \\mathbf{W}^{(n)}\\mathbf{a}^{(n-1)} + \\mathbf{b}^{(n)} $$\n",
        "\n",
        "In this worksheet we will use the *logistic function* as our activation function, rather than the more familiar $\\tanh$.\n",
        "$$ \\sigma(\\mathbf{z}) = \\frac{1}{1 + \\exp(-\\mathbf{z})} $$\n",
        "\n",
        "There is no need to edit the following cells.\n",
        "They do not form part of the assessment.\n",
        "You may wish to study how it works though.\n",
        "\n",
        "**Run the following cells before continuing.**"
      ]
    },
    {
      "cell_type": "code",
      "metadata": {
        "id": "6RXK_PnIaIUj",
        "colab_type": "code",
        "colab": {}
      },
      "source": [
        "from google.colab import drive\n",
        "drive.mount('/content/drive')"
      ],
      "execution_count": null,
      "outputs": []
    },
    {
      "cell_type": "code",
      "metadata": {
        "id": "4wfd99AkavOc",
        "colab_type": "code",
        "colab": {}
      },
      "source": [
        "! unzip -uq '/content/drive/My Drive/Colab Notebooks/6.Maths Of Intelligence/Mathematics for Machine Learning Specilization/02_Mathematics for Machine Learning: Multivariate Calculus/readonly.zip' -d '/content/Read_Only'"
      ],
      "execution_count": 5,
      "outputs": []
    },
    {
      "cell_type": "code",
      "metadata": {
        "id": "gnX8dXcWau6i",
        "colab_type": "code",
        "colab": {}
      },
      "source": [
        "import os\n",
        "os.chdir('/content/Read_Only/readonly')"
      ],
      "execution_count": 8,
      "outputs": []
    },
    {
      "cell_type": "code",
      "metadata": {
        "id": "E1TwAPp1SAan",
        "colab_type": "code",
        "colab": {
          "base_uri": "https://localhost:8080/",
          "height": 34
        },
        "outputId": "d9377637-3d2e-4134-930f-d7abe18742b7"
      },
      "source": [
        "%run \"/content/readonly/readonly/BackpropModule.ipynb\""
      ],
      "execution_count": 9,
      "outputs": [
        {
          "output_type": "stream",
          "text": [
            "ERROR:root:File `'/content/readonly/readonly/BackpropModule.ipynb.py'` not found.\n"
          ],
          "name": "stderr"
        }
      ]
    },
    {
      "cell_type": "code",
      "metadata": {
        "id": "f6TFiOsjSAaw",
        "colab_type": "code",
        "colab": {}
      },
      "source": [
        "# PACKAGE\n",
        "import numpy as np\n",
        "import matplotlib.pyplot as plt"
      ],
      "execution_count": 10,
      "outputs": []
    },
    {
      "cell_type": "code",
      "metadata": {
        "id": "EVqHzOc4SAa2",
        "colab_type": "code",
        "colab": {}
      },
      "source": [
        "# PACKAGE\n",
        "# First load the worksheet dependencies.\n",
        "# Here is the activation function and its derivative.\n",
        "sigma = lambda z : 1 / (1 + np.exp(-z))\n",
        "d_sigma = lambda z : np.cosh(z/2)**(-2) / 4\n",
        "\n",
        "# This function initialises the network with it's structure, it also resets any training already done.\n",
        "def reset_network (n1 = 6, n2 = 7, random=np.random) :\n",
        "    global W1, W2, W3, b1, b2, b3\n",
        "    W1 = random.randn(n1, 1) / 2\n",
        "    W2 = random.randn(n2, n1) / 2\n",
        "    W3 = random.randn(2, n2) / 2\n",
        "    b1 = random.randn(n1, 1) / 2\n",
        "    b2 = random.randn(n2, 1) / 2\n",
        "    b3 = random.randn(2, 1) / 2\n",
        "\n",
        "# This function feeds forward each activation to the next layer. It returns all weighted sums and activations.\n",
        "def network_function(a0) :\n",
        "    z1 = W1 @ a0 + b1\n",
        "    a1 = sigma(z1)\n",
        "    z2 = W2 @ a1 + b2\n",
        "    a2 = sigma(z2)\n",
        "    z3 = W3 @ a2 + b3\n",
        "    a3 = sigma(z3)\n",
        "    return a0, z1, a1, z2, a2, z3, a3\n",
        "\n",
        "# This is the cost function of a neural network with respect to a training set.\n",
        "def cost(x, y) :\n",
        "    return np.linalg.norm(network_function(x)[-1] - y)**2 / x.size"
      ],
      "execution_count": 11,
      "outputs": []
    },
    {
      "cell_type": "markdown",
      "metadata": {
        "id": "lW2g7oSBSAa8",
        "colab_type": "text"
      },
      "source": [
        "## Backpropagation\n",
        "\n",
        "In the next cells, you will be asked to complete functions for the Jacobian of the cost function with respect to the weights and biases.\n",
        "We will start with layer 3, which is the easiest, and work backwards through the layers.\n",
        "\n",
        "We'll define our Jacobians as,\n",
        "$$ \\mathbf{J}_{\\mathbf{W}^{(3)}} = \\frac{\\partial C}{\\partial \\mathbf{W}^{(3)}} $$\n",
        "$$ \\mathbf{J}_{\\mathbf{b}^{(3)}} = \\frac{\\partial C}{\\partial \\mathbf{b}^{(3)}} $$\n",
        "etc., where $C$ is the average cost function over the training set. i.e.,\n",
        "$$ C = \\frac{1}{N}\\sum_k C_k $$\n",
        "You calculated the following in the practice quizzes,\n",
        "$$ \\frac{\\partial C}{\\partial \\mathbf{W}^{(3)}} =\n",
        "   \\frac{\\partial C}{\\partial \\mathbf{a}^{(3)}}\n",
        "   \\frac{\\partial \\mathbf{a}^{(3)}}{\\partial \\mathbf{z}^{(3)}}\n",
        "   \\frac{\\partial \\mathbf{z}^{(3)}}{\\partial \\mathbf{W}^{(3)}}\n",
        "   ,$$\n",
        "for the weight, and similarly for the bias,\n",
        "$$ \\frac{\\partial C}{\\partial \\mathbf{b}^{(3)}} =\n",
        "   \\frac{\\partial C}{\\partial \\mathbf{a}^{(3)}}\n",
        "   \\frac{\\partial \\mathbf{a}^{(3)}}{\\partial \\mathbf{z}^{(3)}}\n",
        "   \\frac{\\partial \\mathbf{z}^{(3)}}{\\partial \\mathbf{b}^{(3)}}\n",
        "   .$$\n",
        "With the partial derivatives taking the form,\n",
        "$$ \\frac{\\partial C}{\\partial \\mathbf{a}^{(3)}} = 2(\\mathbf{a}^{(3)} - \\mathbf{y}) $$\n",
        "$$ \\frac{\\partial \\mathbf{a}^{(3)}}{\\partial \\mathbf{z}^{(3)}} = \\sigma'({z}^{(3)})$$\n",
        "$$ \\frac{\\partial \\mathbf{z}^{(3)}}{\\partial \\mathbf{W}^{(3)}} = \\mathbf{a}^{(2)}$$\n",
        "$$ \\frac{\\partial \\mathbf{z}^{(3)}}{\\partial \\mathbf{b}^{(3)}} = 1$$\n",
        "\n",
        "We'll do the J_W3 ($\\mathbf{J}_{\\mathbf{W}^{(3)}}$) function for you, so you can see how it works.\n",
        "You should then be able to adapt the J_b3 function, with help, yourself."
      ]
    },
    {
      "cell_type": "code",
      "metadata": {
        "id": "SID-WSAmSAa9",
        "colab_type": "code",
        "colab": {}
      },
      "source": [
        "# GRADED FUNCTION\n",
        "\n",
        "# Jacobian for the third layer weights. There is no need to edit this function.\n",
        "def J_W3 (x, y) :\n",
        "    # First get all the activations and weighted sums at each layer of the network.\n",
        "    a0, z1, a1, z2, a2, z3, a3 = network_function(x)\n",
        "    # We'll use the variable J to store parts of our result as we go along, updating it in each line.\n",
        "    # Firstly, we calculate dC/da3, using the expressions above.\n",
        "    J = 2 * (a3 - y)\n",
        "    # Next multiply the result we've calculated by the derivative of sigma, evaluated at z3.\n",
        "    J = J * d_sigma(z3)\n",
        "    # Then we take the dot product (along the axis that holds the training examples) with the final partial derivative,\n",
        "    # i.e. dz3/dW3 = a2\n",
        "    # and divide by the number of training examples, for the average over all training examples.\n",
        "    J = J @ a2.T / x.size\n",
        "    # Finally return the result out of the function.\n",
        "    return J\n",
        "\n",
        "# In this function, you will implement the jacobian for the bias.\n",
        "# As you will see from the partial derivatives, only the last partial derivative is different.\n",
        "# The first two partial derivatives are the same as previously.\n",
        "# ===YOU SHOULD EDIT THIS FUNCTION===\n",
        "def J_b3 (x, y) :\n",
        "    # As last time, we'll first set up the activations.\n",
        "    a0, z1, a1, z2, a2, z3, a3 = network_function(x)\n",
        "    # Next you should implement the first two partial derivatives of the Jacobian.\n",
        "    # ===COPY TWO LINES FROM THE PREVIOUS FUNCTION TO SET UP THE FIRST TWO JACOBIAN TERMS===\n",
        "    J = 2 * (a3 - y)\n",
        "    J = J * d_sigma(z3)\n",
        "    # For the final line, we don't need to multiply by dz3/db3, because that is multiplying by 1.\n",
        "    # We still need to sum over all training examples however.\n",
        "    # There is no need to edit this line.\n",
        "    J = np.sum(J, axis=1, keepdims=True) / x.size\n",
        "    return J"
      ],
      "execution_count": 12,
      "outputs": []
    },
    {
      "cell_type": "markdown",
      "metadata": {
        "id": "92WFNXDHSAbD",
        "colab_type": "text"
      },
      "source": [
        "We'll next do the Jacobian for the Layer 2. The partial derivatives for this are,\n",
        "$$ \\frac{\\partial C}{\\partial \\mathbf{W}^{(2)}} =\n",
        "   \\frac{\\partial C}{\\partial \\mathbf{a}^{(3)}}\n",
        "   \\left(\n",
        "   \\frac{\\partial \\mathbf{a}^{(3)}}{\\partial \\mathbf{a}^{(2)}}\n",
        "   \\right)\n",
        "   \\frac{\\partial \\mathbf{a}^{(2)}}{\\partial \\mathbf{z}^{(2)}}\n",
        "   \\frac{\\partial \\mathbf{z}^{(2)}}{\\partial \\mathbf{W}^{(2)}}\n",
        "   ,$$\n",
        "$$ \\frac{\\partial C}{\\partial \\mathbf{b}^{(2)}} =\n",
        "   \\frac{\\partial C}{\\partial \\mathbf{a}^{(3)}}\n",
        "   \\left(\n",
        "   \\frac{\\partial \\mathbf{a}^{(3)}}{\\partial \\mathbf{a}^{(2)}}\n",
        "   \\right)\n",
        "   \\frac{\\partial \\mathbf{a}^{(2)}}{\\partial \\mathbf{z}^{(2)}}\n",
        "   \\frac{\\partial \\mathbf{z}^{(2)}}{\\partial \\mathbf{b}^{(2)}}\n",
        "   .$$\n",
        "This is very similar to the previous layer, with two exceptions:\n",
        "* There is a new partial derivative, in parentheses, $\\frac{\\partial \\mathbf{a}^{(3)}}{\\partial \\mathbf{a}^{(2)}}$\n",
        "* The terms after the parentheses are now one layer lower.\n",
        "\n",
        "Recall the new partial derivative takes the following form,\n",
        "$$ \\frac{\\partial \\mathbf{a}^{(3)}}{\\partial \\mathbf{a}^{(2)}} =\n",
        "   \\frac{\\partial \\mathbf{a}^{(3)}}{\\partial \\mathbf{z}^{(3)}}\n",
        "   \\frac{\\partial \\mathbf{z}^{(3)}}{\\partial \\mathbf{a}^{(2)}} =\n",
        "   \\sigma'(\\mathbf{z}^{(3)})\n",
        "   \\mathbf{W}^{(3)}\n",
        "$$\n",
        "\n",
        "To show how this changes things, we will implement the Jacobian for the weight again and ask you to implement it for the bias."
      ]
    },
    {
      "cell_type": "code",
      "metadata": {
        "id": "uF_YSD4OSAbE",
        "colab_type": "code",
        "colab": {}
      },
      "source": [
        "# GRADED FUNCTION\n",
        "\n",
        "# Compare this function to J_W3 to see how it changes.\n",
        "# There is no need to edit this function.\n",
        "def J_W2 (x, y) :\n",
        "    #The first two lines are identical to in J_W3.\n",
        "    a0, z1, a1, z2, a2, z3, a3 = network_function(x)    \n",
        "    J = 2 * (a3 - y)\n",
        "    # the next two lines implement da3/da2, first σ' and then W3.\n",
        "    J = J * d_sigma(z3)\n",
        "    J = (J.T @ W3).T\n",
        "    # then the final lines are the same as in J_W3 but with the layer number bumped down.\n",
        "    J = J * d_sigma(z2)\n",
        "    J = J @ a1.T / x.size\n",
        "    return J\n",
        "\n",
        "# As previously, fill in all the incomplete lines.\n",
        "# ===YOU SHOULD EDIT THIS FUNCTION===\n",
        "def J_b2 (x, y) :\n",
        "    a0, z1, a1, z2, a2, z3, a3 = network_function(x)\n",
        "    J = 2 * (a3 - y)\n",
        "    J = J * d_sigma(z3)\n",
        "    J = (J.T @ W3).T\n",
        "    J = J * d_sigma(z2)\n",
        "    J = np.sum(J, axis=1, keepdims=True) / x.size\n",
        "    return J"
      ],
      "execution_count": 13,
      "outputs": []
    },
    {
      "cell_type": "markdown",
      "metadata": {
        "id": "72g3CtLYSAbJ",
        "colab_type": "text"
      },
      "source": [
        "Layer 1 is very similar to Layer 2, but with an addition partial derivative term.\n",
        "$$ \\frac{\\partial C}{\\partial \\mathbf{W}^{(1)}} =\n",
        "   \\frac{\\partial C}{\\partial \\mathbf{a}^{(3)}}\n",
        "   \\left(\n",
        "   \\frac{\\partial \\mathbf{a}^{(3)}}{\\partial \\mathbf{a}^{(2)}}\n",
        "   \\frac{\\partial \\mathbf{a}^{(2)}}{\\partial \\mathbf{a}^{(1)}}\n",
        "   \\right)\n",
        "   \\frac{\\partial \\mathbf{a}^{(1)}}{\\partial \\mathbf{z}^{(1)}}\n",
        "   \\frac{\\partial \\mathbf{z}^{(1)}}{\\partial \\mathbf{W}^{(1)}}\n",
        "   ,$$\n",
        "$$ \\frac{\\partial C}{\\partial \\mathbf{b}^{(1)}} =\n",
        "   \\frac{\\partial C}{\\partial \\mathbf{a}^{(3)}}\n",
        "   \\left(\n",
        "   \\frac{\\partial \\mathbf{a}^{(3)}}{\\partial \\mathbf{a}^{(2)}}\n",
        "   \\frac{\\partial \\mathbf{a}^{(2)}}{\\partial \\mathbf{a}^{(1)}}\n",
        "   \\right)\n",
        "   \\frac{\\partial \\mathbf{a}^{(1)}}{\\partial \\mathbf{z}^{(1)}}\n",
        "   \\frac{\\partial \\mathbf{z}^{(1)}}{\\partial \\mathbf{b}^{(1)}}\n",
        "   .$$\n",
        "You should be able to adapt lines from the previous cells to complete **both** the weight and bias Jacobian."
      ]
    },
    {
      "cell_type": "code",
      "metadata": {
        "id": "klAzWur0SAbK",
        "colab_type": "code",
        "colab": {}
      },
      "source": [
        "# GRADED FUNCTION\n",
        "\n",
        "# Fill in all incomplete lines.\n",
        "# ===YOU SHOULD EDIT THIS FUNCTION===\n",
        "def J_W1 (x, y) :\n",
        "    a0, z1, a1, z2, a2, z3, a3 = network_function(x)\n",
        "    J = 2 * (a3 - y)\n",
        "    J = J * d_sigma(z3)\n",
        "    J = (J.T @ W3).T\n",
        "    J = J * d_sigma(z2)\n",
        "    J = (J.T @ W2).T\n",
        "    J = J * d_sigma(z1)\n",
        "    J = J @ a0.T / x.size\n",
        "    return J\n",
        "\n",
        "# Fill in all incomplete lines.\n",
        "# ===YOU SHOULD EDIT THIS FUNCTION===\n",
        "def J_b1 (x, y) :\n",
        "    a0, z1, a1, z2, a2, z3, a3 = network_function(x)\n",
        "    J = 2 * (a3 - y)\n",
        "    J = J * d_sigma(z3)\n",
        "    J = (J.T @ W3).T\n",
        "    J = J * d_sigma(z2)\n",
        "    J = (J.T @ W2).T\n",
        "    J = J * d_sigma(z1)\n",
        "    J = np.sum(J, axis=1, keepdims=True) / x.size\n",
        "    return J"
      ],
      "execution_count": 14,
      "outputs": []
    },
    {
      "cell_type": "markdown",
      "metadata": {
        "id": "OkXDXIoOSAbQ",
        "colab_type": "text"
      },
      "source": [
        "## Test your code before submission\n",
        "To test the code you've written above, run all previous cells (select each cell, then press the play button [ ▶| ] or press shift-enter).\n",
        "You can then use the code below to test out your function.\n",
        "You don't need to submit these cells; you can edit and run them as much as you like."
      ]
    },
    {
      "cell_type": "markdown",
      "metadata": {
        "id": "7I2CJrfbSAbR",
        "colab_type": "text"
      },
      "source": [
        "First, we generate training data, and generate a network with randomly assigned weights and biases."
      ]
    },
    {
      "cell_type": "code",
      "metadata": {
        "id": "lpKWOI-JSAbS",
        "colab_type": "code",
        "colab": {}
      },
      "source": [
        "x, y = training_data()\n",
        "reset_network()"
      ],
      "execution_count": null,
      "outputs": []
    },
    {
      "cell_type": "markdown",
      "metadata": {
        "id": "JF3szrJ3SAbY",
        "colab_type": "text"
      },
      "source": [
        "Next, if you've implemented the assignment correctly, the following code will iterate through a steepest descent algorithm using the Jacobians you have calculated.\n",
        "The function will plot the training data (in green), and your neural network solutions in pink for each iteration, and orange for the last output.\n",
        "\n",
        "It takes about 50,000 iterations to train this network.\n",
        "We can split this up though - **10,000 iterations should take about a minute to run**.\n",
        "Run the line below as many times as you like."
      ]
    },
    {
      "cell_type": "code",
      "metadata": {
        "id": "Ld3Y4AMfSAbZ",
        "colab_type": "code",
        "colab": {}
      },
      "source": [
        "plot_training(x, y, iterations=10000, aggression=7, noise=1)"
      ],
      "execution_count": null,
      "outputs": []
    },
    {
      "cell_type": "markdown",
      "metadata": {
        "id": "SV6hpbYjSAbe",
        "colab_type": "text"
      },
      "source": [
        "If you wish, you can change parameters of the steepest descent algorithm (We'll go into more details in future exercises), but you can change how many iterations are plotted, how agressive the step down the Jacobian is, and how much noise to add.\n",
        "\n",
        "You can also edit the parameters of the neural network, i.e. to give it different amounts of neurons in the hidden layers by calling,\n",
        "```python\n",
        "reset_network(n1, n2)\n",
        "```\n"
      ]
    }
  ]
}