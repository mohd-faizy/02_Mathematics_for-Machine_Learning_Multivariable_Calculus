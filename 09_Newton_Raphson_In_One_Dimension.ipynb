{
  "nbformat": 4,
  "nbformat_minor": 0,
  "metadata": {
    "colab": {
      "name": "09_Newton_Raphson_In_One_Dimension.ipynb",
      "provenance": [],
      "collapsed_sections": [],
      "authorship_tag": "ABX9TyMBDRKSn5VeF5SLVFW4cCsW",
      "include_colab_link": true
    },
    "kernelspec": {
      "name": "python3",
      "display_name": "Python 3"
    }
  },
  "cells": [
    {
      "cell_type": "markdown",
      "metadata": {
        "id": "view-in-github",
        "colab_type": "text"
      },
      "source": [
        "<a href=\"https://colab.research.google.com/github/mohd-faizy/02_Mathematics_for-Machine_Learning_Multivariable_Calculus/blob/master/09_Newton_Raphson_In_One_Dimension.ipynb\" target=\"_parent\"><img src=\"https://colab.research.google.com/assets/colab-badge.svg\" alt=\"Open In Colab\"/></a>"
      ]
    },
    {
      "cell_type": "markdown",
      "metadata": {
        "id": "WiErJodLfwbd",
        "colab_type": "text"
      },
      "source": [
        "# __Newton Raphson__"
      ]
    },
    {
      "cell_type": "code",
      "metadata": {
        "id": "ZfsbLHl3feBx",
        "colab_type": "code",
        "colab": {}
      },
      "source": [
        "def f (x) :\n",
        "  return x**6/6 - 3*x**4 - 2*x**3/3 + 27*x**2/2 + 18*x - 30\n",
        "\n",
        "def d_f (x) :\n",
        "  return x**5 - 12*x**3 - 2*x**2 +27*x + 18  # Complete this line with the derivative you have calculated.\n",
        "\n",
        "x = -4.0\n",
        "\n",
        "d = {\"x\" : [x], \"f(x)\": [f(x)]}\n",
        "for i in range(0, 20):\n",
        "  x = x - f(x) / d_f(x)\n",
        "  d[\"x\"].append(x)\n",
        "  d[\"f(x)\"].append(f(x))\n",
        "\n",
        "pd.DataFrame(d, columns=['x', 'f(x)'])\n"
      ],
      "execution_count": null,
      "outputs": []
    },
    {
      "cell_type": "code",
      "metadata": {
        "id": "Mv4fTBAnf5VX",
        "colab_type": "code",
        "colab": {}
      },
      "source": [
        "from scipy import optimize\n",
        "\n",
        "def f (x) :\n",
        "  return x**6/6 - 3*x**4 - 2*x**3/3 + 27*x**2/2 + 18*x - 30\n",
        "  \n",
        "x0 = -5\n",
        "optimize.newton(f, x0)"
      ],
      "execution_count": null,
      "outputs": []
    }
  ]
}